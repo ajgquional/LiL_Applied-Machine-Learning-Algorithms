{
 "cells": [
  {
   "cell_type": "markdown",
   "metadata": {},
   "source": [
    "## Boosting: Fit and evaluate a model\n",
    "\n",
    "Using the Titanic dataset from [this](https://www.kaggle.com/c/titanic/overview) Kaggle competition.\n",
    "\n",
    "In this section, we will fit and evaluate a simple Gradient Boosting model."
   ]
  },
  {
   "cell_type": "markdown",
   "metadata": {},
   "source": [
    "### Read in Data"
   ]
  },
  {
   "cell_type": "code",
   "execution_count": 1,
   "metadata": {},
   "outputs": [],
   "source": [
    "import joblib\n",
    "import pandas as pd\n",
    "from sklearn.ensemble import GradientBoostingClassifier\n",
    "from sklearn.model_selection import GridSearchCV\n",
    "import warnings\n",
    "warnings.filterwarnings('ignore', category=FutureWarning)\n",
    "warnings.filterwarnings('ignore', category=DeprecationWarning)\n",
    "\n",
    "tr_features = pd.read_csv('../../../train_features.csv')\n",
    "tr_labels = pd.read_csv('../../../train_labels.csv')"
   ]
  },
  {
   "cell_type": "markdown",
   "metadata": {},
   "source": [
    "### Hyperparameter tuning\n",
    "\n",
    "![GB](../../img/gb.png)"
   ]
  },
  {
   "cell_type": "code",
   "execution_count": 2,
   "metadata": {},
   "outputs": [],
   "source": [
    "def print_results(results):\n",
    "    print('BEST PARAMS: {}\\n'.format(results.best_params_))\n",
    "\n",
    "    means = results.cv_results_['mean_test_score']\n",
    "    stds = results.cv_results_['std_test_score']\n",
    "    for mean, std, params in zip(means, stds, results.cv_results_['params']):\n",
    "        print('{} (+/-{}) for {}'.format(round(mean, 3), round(std * 2, 3), params))"
   ]
  },
  {
   "cell_type": "code",
   "execution_count": 4,
   "metadata": {},
   "outputs": [
    {
     "name": "stdout",
     "output_type": "stream",
     "text": [
      "BEST PARAMS: {'learning_rate': 1, 'max_depth': 1, 'n_estimators': 50}\n",
      "\n",
      "0.624 (+/-0.007) for {'learning_rate': 0.01, 'max_depth': 1, 'n_estimators': 5}\n",
      "0.796 (+/-0.115) for {'learning_rate': 0.01, 'max_depth': 1, 'n_estimators': 50}\n",
      "0.796 (+/-0.115) for {'learning_rate': 0.01, 'max_depth': 1, 'n_estimators': 250}\n",
      "0.807 (+/-0.104) for {'learning_rate': 0.01, 'max_depth': 1, 'n_estimators': 500}\n",
      "0.624 (+/-0.007) for {'learning_rate': 0.01, 'max_depth': 3, 'n_estimators': 5}\n",
      "0.805 (+/-0.075) for {'learning_rate': 0.01, 'max_depth': 3, 'n_estimators': 50}\n",
      "0.826 (+/-0.093) for {'learning_rate': 0.01, 'max_depth': 3, 'n_estimators': 250}\n",
      "0.824 (+/-0.077) for {'learning_rate': 0.01, 'max_depth': 3, 'n_estimators': 500}\n",
      "0.624 (+/-0.007) for {'learning_rate': 0.01, 'max_depth': 5, 'n_estimators': 5}\n",
      "0.815 (+/-0.062) for {'learning_rate': 0.01, 'max_depth': 5, 'n_estimators': 50}\n",
      "0.813 (+/-0.045) for {'learning_rate': 0.01, 'max_depth': 5, 'n_estimators': 250}\n",
      "0.817 (+/-0.053) for {'learning_rate': 0.01, 'max_depth': 5, 'n_estimators': 500}\n",
      "0.624 (+/-0.007) for {'learning_rate': 0.01, 'max_depth': 7, 'n_estimators': 5}\n",
      "0.809 (+/-0.053) for {'learning_rate': 0.01, 'max_depth': 7, 'n_estimators': 50}\n",
      "0.8 (+/-0.048) for {'learning_rate': 0.01, 'max_depth': 7, 'n_estimators': 250}\n",
      "0.787 (+/-0.052) for {'learning_rate': 0.01, 'max_depth': 7, 'n_estimators': 500}\n",
      "0.624 (+/-0.007) for {'learning_rate': 0.01, 'max_depth': 9, 'n_estimators': 5}\n",
      "0.809 (+/-0.04) for {'learning_rate': 0.01, 'max_depth': 9, 'n_estimators': 50}\n",
      "0.79 (+/-0.048) for {'learning_rate': 0.01, 'max_depth': 9, 'n_estimators': 250}\n",
      "0.781 (+/-0.035) for {'learning_rate': 0.01, 'max_depth': 9, 'n_estimators': 500}\n",
      "0.796 (+/-0.115) for {'learning_rate': 0.1, 'max_depth': 1, 'n_estimators': 5}\n",
      "0.807 (+/-0.104) for {'learning_rate': 0.1, 'max_depth': 1, 'n_estimators': 50}\n",
      "0.807 (+/-0.124) for {'learning_rate': 0.1, 'max_depth': 1, 'n_estimators': 250}\n",
      "0.818 (+/-0.113) for {'learning_rate': 0.1, 'max_depth': 1, 'n_estimators': 500}\n",
      "0.807 (+/-0.078) for {'learning_rate': 0.1, 'max_depth': 3, 'n_estimators': 5}\n",
      "0.83 (+/-0.063) for {'learning_rate': 0.1, 'max_depth': 3, 'n_estimators': 50}\n",
      "0.817 (+/-0.059) for {'learning_rate': 0.1, 'max_depth': 3, 'n_estimators': 250}\n",
      "0.807 (+/-0.058) for {'learning_rate': 0.1, 'max_depth': 3, 'n_estimators': 500}\n",
      "0.807 (+/-0.055) for {'learning_rate': 0.1, 'max_depth': 5, 'n_estimators': 5}\n",
      "0.805 (+/-0.035) for {'learning_rate': 0.1, 'max_depth': 5, 'n_estimators': 50}\n",
      "0.788 (+/-0.056) for {'learning_rate': 0.1, 'max_depth': 5, 'n_estimators': 250}\n",
      "0.79 (+/-0.044) for {'learning_rate': 0.1, 'max_depth': 5, 'n_estimators': 500}\n",
      "0.809 (+/-0.053) for {'learning_rate': 0.1, 'max_depth': 7, 'n_estimators': 5}\n",
      "0.785 (+/-0.036) for {'learning_rate': 0.1, 'max_depth': 7, 'n_estimators': 50}\n",
      "0.79 (+/-0.053) for {'learning_rate': 0.1, 'max_depth': 7, 'n_estimators': 250}\n",
      "0.79 (+/-0.055) for {'learning_rate': 0.1, 'max_depth': 7, 'n_estimators': 500}\n",
      "0.803 (+/-0.042) for {'learning_rate': 0.1, 'max_depth': 9, 'n_estimators': 5}\n",
      "0.783 (+/-0.038) for {'learning_rate': 0.1, 'max_depth': 9, 'n_estimators': 50}\n",
      "0.79 (+/-0.03) for {'learning_rate': 0.1, 'max_depth': 9, 'n_estimators': 250}\n",
      "0.794 (+/-0.048) for {'learning_rate': 0.1, 'max_depth': 9, 'n_estimators': 500}\n",
      "0.796 (+/-0.118) for {'learning_rate': 1, 'max_depth': 1, 'n_estimators': 5}\n",
      "0.837 (+/-0.083) for {'learning_rate': 1, 'max_depth': 1, 'n_estimators': 50}\n",
      "0.82 (+/-0.081) for {'learning_rate': 1, 'max_depth': 1, 'n_estimators': 250}\n",
      "0.817 (+/-0.092) for {'learning_rate': 1, 'max_depth': 1, 'n_estimators': 500}\n",
      "0.826 (+/-0.054) for {'learning_rate': 1, 'max_depth': 3, 'n_estimators': 5}\n",
      "0.805 (+/-0.058) for {'learning_rate': 1, 'max_depth': 3, 'n_estimators': 50}\n",
      "0.789 (+/-0.101) for {'learning_rate': 1, 'max_depth': 3, 'n_estimators': 250}\n",
      "0.783 (+/-0.064) for {'learning_rate': 1, 'max_depth': 3, 'n_estimators': 500}\n",
      "0.785 (+/-0.087) for {'learning_rate': 1, 'max_depth': 5, 'n_estimators': 5}\n",
      "0.792 (+/-0.055) for {'learning_rate': 1, 'max_depth': 5, 'n_estimators': 50}\n",
      "0.792 (+/-0.063) for {'learning_rate': 1, 'max_depth': 5, 'n_estimators': 250}\n",
      "0.798 (+/-0.047) for {'learning_rate': 1, 'max_depth': 5, 'n_estimators': 500}\n",
      "0.751 (+/-0.064) for {'learning_rate': 1, 'max_depth': 7, 'n_estimators': 5}\n",
      "0.781 (+/-0.037) for {'learning_rate': 1, 'max_depth': 7, 'n_estimators': 50}\n",
      "0.773 (+/-0.042) for {'learning_rate': 1, 'max_depth': 7, 'n_estimators': 250}\n",
      "0.79 (+/-0.054) for {'learning_rate': 1, 'max_depth': 7, 'n_estimators': 500}\n",
      "0.775 (+/-0.038) for {'learning_rate': 1, 'max_depth': 9, 'n_estimators': 5}\n",
      "0.777 (+/-0.034) for {'learning_rate': 1, 'max_depth': 9, 'n_estimators': 50}\n",
      "0.792 (+/-0.036) for {'learning_rate': 1, 'max_depth': 9, 'n_estimators': 250}\n",
      "0.786 (+/-0.053) for {'learning_rate': 1, 'max_depth': 9, 'n_estimators': 500}\n",
      "0.204 (+/-0.115) for {'learning_rate': 10, 'max_depth': 1, 'n_estimators': 5}\n",
      "0.204 (+/-0.115) for {'learning_rate': 10, 'max_depth': 1, 'n_estimators': 50}\n",
      "0.204 (+/-0.115) for {'learning_rate': 10, 'max_depth': 1, 'n_estimators': 250}\n",
      "0.204 (+/-0.115) for {'learning_rate': 10, 'max_depth': 1, 'n_estimators': 500}\n",
      "0.309 (+/-0.19) for {'learning_rate': 10, 'max_depth': 3, 'n_estimators': 5}\n",
      "0.309 (+/-0.19) for {'learning_rate': 10, 'max_depth': 3, 'n_estimators': 50}\n",
      "0.309 (+/-0.19) for {'learning_rate': 10, 'max_depth': 3, 'n_estimators': 250}\n",
      "0.309 (+/-0.19) for {'learning_rate': 10, 'max_depth': 3, 'n_estimators': 500}\n",
      "0.397 (+/-0.231) for {'learning_rate': 10, 'max_depth': 5, 'n_estimators': 5}\n",
      "0.399 (+/-0.228) for {'learning_rate': 10, 'max_depth': 5, 'n_estimators': 50}\n",
      "0.395 (+/-0.23) for {'learning_rate': 10, 'max_depth': 5, 'n_estimators': 250}\n",
      "0.402 (+/-0.241) for {'learning_rate': 10, 'max_depth': 5, 'n_estimators': 500}\n",
      "0.594 (+/-0.127) for {'learning_rate': 10, 'max_depth': 7, 'n_estimators': 5}\n",
      "0.56 (+/-0.169) for {'learning_rate': 10, 'max_depth': 7, 'n_estimators': 50}\n",
      "0.575 (+/-0.137) for {'learning_rate': 10, 'max_depth': 7, 'n_estimators': 250}\n",
      "0.599 (+/-0.165) for {'learning_rate': 10, 'max_depth': 7, 'n_estimators': 500}\n",
      "0.693 (+/-0.081) for {'learning_rate': 10, 'max_depth': 9, 'n_estimators': 5}\n",
      "0.698 (+/-0.085) for {'learning_rate': 10, 'max_depth': 9, 'n_estimators': 50}\n",
      "0.682 (+/-0.091) for {'learning_rate': 10, 'max_depth': 9, 'n_estimators': 250}\n",
      "0.691 (+/-0.058) for {'learning_rate': 10, 'max_depth': 9, 'n_estimators': 500}\n",
      "0.376 (+/-0.007) for {'learning_rate': 100, 'max_depth': 1, 'n_estimators': 5}\n",
      "0.376 (+/-0.007) for {'learning_rate': 100, 'max_depth': 1, 'n_estimators': 50}\n",
      "0.376 (+/-0.007) for {'learning_rate': 100, 'max_depth': 1, 'n_estimators': 250}\n",
      "0.376 (+/-0.007) for {'learning_rate': 100, 'max_depth': 1, 'n_estimators': 500}\n",
      "0.281 (+/-0.111) for {'learning_rate': 100, 'max_depth': 3, 'n_estimators': 5}\n",
      "0.281 (+/-0.111) for {'learning_rate': 100, 'max_depth': 3, 'n_estimators': 50}\n",
      "0.281 (+/-0.111) for {'learning_rate': 100, 'max_depth': 3, 'n_estimators': 250}\n",
      "0.281 (+/-0.111) for {'learning_rate': 100, 'max_depth': 3, 'n_estimators': 500}\n",
      "0.318 (+/-0.161) for {'learning_rate': 100, 'max_depth': 5, 'n_estimators': 5}\n",
      "0.309 (+/-0.182) for {'learning_rate': 100, 'max_depth': 5, 'n_estimators': 50}\n",
      "0.318 (+/-0.161) for {'learning_rate': 100, 'max_depth': 5, 'n_estimators': 250}\n",
      "0.322 (+/-0.175) for {'learning_rate': 100, 'max_depth': 5, 'n_estimators': 500}\n",
      "0.568 (+/-0.163) for {'learning_rate': 100, 'max_depth': 7, 'n_estimators': 5}\n",
      "0.609 (+/-0.084) for {'learning_rate': 100, 'max_depth': 7, 'n_estimators': 50}\n",
      "0.622 (+/-0.071) for {'learning_rate': 100, 'max_depth': 7, 'n_estimators': 250}\n",
      "0.614 (+/-0.088) for {'learning_rate': 100, 'max_depth': 7, 'n_estimators': 500}\n",
      "0.648 (+/-0.055) for {'learning_rate': 100, 'max_depth': 9, 'n_estimators': 5}\n",
      "0.684 (+/-0.037) for {'learning_rate': 100, 'max_depth': 9, 'n_estimators': 50}\n",
      "0.644 (+/-0.068) for {'learning_rate': 100, 'max_depth': 9, 'n_estimators': 250}\n",
      "0.704 (+/-0.1) for {'learning_rate': 100, 'max_depth': 9, 'n_estimators': 500}\n"
     ]
    }
   ],
   "source": [
    "gb = GradientBoostingClassifier()\n",
    "parameters = {\n",
    "    'n_estimators': [5, 50, 250, 500],\n",
    "    'max_depth': [1, 3, 5, 7, 9],\n",
    "    'learning_rate': [0.01, 0.1, 1, 10, 100]\n",
    "}\n",
    "\n",
    "cv = GridSearchCV(gb, parameters, cv=5)\n",
    "cv.fit(tr_features, tr_labels.values.ravel())\n",
    "\n",
    "print_results(cv)"
   ]
  },
  {
   "cell_type": "markdown",
   "metadata": {},
   "source": [
    "### Write out pickled model"
   ]
  },
  {
   "cell_type": "code",
   "execution_count": 5,
   "metadata": {},
   "outputs": [
    {
     "data": {
      "text/plain": [
       "['../../../GB_model.pkl']"
      ]
     },
     "execution_count": 5,
     "metadata": {},
     "output_type": "execute_result"
    }
   ],
   "source": [
    "joblib.dump(cv.best_estimator_, '../../../GB_model.pkl')"
   ]
  },
  {
   "cell_type": "code",
   "execution_count": null,
   "metadata": {},
   "outputs": [],
   "source": []
  }
 ],
 "metadata": {
  "kernelspec": {
   "display_name": "Python 3 (ipykernel)",
   "language": "python",
   "name": "python3"
  },
  "language_info": {
   "codemirror_mode": {
    "name": "ipython",
    "version": 3
   },
   "file_extension": ".py",
   "mimetype": "text/x-python",
   "name": "python",
   "nbconvert_exporter": "python",
   "pygments_lexer": "ipython3",
   "version": "3.9.6"
  }
 },
 "nbformat": 4,
 "nbformat_minor": 2
}
